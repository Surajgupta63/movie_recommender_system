{
 "cells": [
  {
   "cell_type": "markdown",
   "id": "9b22ce33-5854-4805-a304-8f78462f0365",
   "metadata": {},
   "source": [
    "## Importing Libraries"
   ]
  },
  {
   "cell_type": "code",
   "execution_count": 1,
   "id": "149f5180-e6e7-4709-bff7-7558d3394fce",
   "metadata": {},
   "outputs": [],
   "source": [
    "import numpy as np\n",
    "import pandas as pd"
   ]
  },
  {
   "cell_type": "markdown",
   "id": "be43b373-50c8-4f2c-a132-19fa1dc33d53",
   "metadata": {},
   "source": [
    "## Importing Dataset"
   ]
  },
  {
   "cell_type": "code",
   "execution_count": 2,
   "id": "b02d4d5b-6a4d-401d-ade1-10684ea2c84f",
   "metadata": {},
   "outputs": [],
   "source": [
    "data = pd.read_csv('IMDB_Indian_Movies.csv')"
   ]
  },
  {
   "cell_type": "code",
   "execution_count": 3,
   "id": "9a8ca745-30c6-4458-bb5b-ba272dbe1e66",
   "metadata": {},
   "outputs": [
    {
     "data": {
      "text/plain": [
       "(2199, 8)"
      ]
     },
     "execution_count": 3,
     "metadata": {},
     "output_type": "execute_result"
    }
   ],
   "source": [
    "data.shape"
   ]
  },
  {
   "cell_type": "markdown",
   "id": "77cda489-9037-4c4d-989c-2aa21b7de579",
   "metadata": {},
   "source": [
    "## Data Preprocessing"
   ]
  },
  {
   "cell_type": "code",
   "execution_count": 4,
   "id": "d85b073d-3c03-4de2-b026-1c5dfae792da",
   "metadata": {},
   "outputs": [
    {
     "data": {
      "text/plain": [
       "Unnamed: 0     0\n",
       "movie_id       0\n",
       "movie_name     0\n",
       "year          65\n",
       "genre          0\n",
       "overview       0\n",
       "director       0\n",
       "cast           0\n",
       "dtype: int64"
      ]
     },
     "execution_count": 4,
     "metadata": {},
     "output_type": "execute_result"
    }
   ],
   "source": [
    "data.isnull().sum()"
   ]
  },
  {
   "cell_type": "code",
   "execution_count": 5,
   "id": "7fc13304-f6e1-4219-8e0f-178971594d23",
   "metadata": {},
   "outputs": [
    {
     "data": {
      "text/html": [
       "<div>\n",
       "<style scoped>\n",
       "    .dataframe tbody tr th:only-of-type {\n",
       "        vertical-align: middle;\n",
       "    }\n",
       "\n",
       "    .dataframe tbody tr th {\n",
       "        vertical-align: top;\n",
       "    }\n",
       "\n",
       "    .dataframe thead th {\n",
       "        text-align: right;\n",
       "    }\n",
       "</style>\n",
       "<table border=\"1\" class=\"dataframe\">\n",
       "  <thead>\n",
       "    <tr style=\"text-align: right;\">\n",
       "      <th></th>\n",
       "      <th>Unnamed: 0</th>\n",
       "      <th>movie_id</th>\n",
       "      <th>movie_name</th>\n",
       "      <th>year</th>\n",
       "      <th>genre</th>\n",
       "      <th>overview</th>\n",
       "      <th>director</th>\n",
       "      <th>cast</th>\n",
       "    </tr>\n",
       "  </thead>\n",
       "  <tbody>\n",
       "    <tr>\n",
       "      <th>0</th>\n",
       "      <td>0</td>\n",
       "      <td>tt15354916</td>\n",
       "      <td>Jawan</td>\n",
       "      <td>2023</td>\n",
       "      <td>Action, Thriller</td>\n",
       "      <td>A high-octane action thriller which outlines t...</td>\n",
       "      <td>Atlee</td>\n",
       "      <td>Shah Rukh Khan, Nayanthara, Vijay Sethupathi, ...</td>\n",
       "    </tr>\n",
       "    <tr>\n",
       "      <th>1</th>\n",
       "      <td>1</td>\n",
       "      <td>tt15748830</td>\n",
       "      <td>Jaane Jaan</td>\n",
       "      <td>2023</td>\n",
       "      <td>Crime, Drama, Mystery</td>\n",
       "      <td>A single mother and her daughter who commit a ...</td>\n",
       "      <td>Sujoy Ghosh</td>\n",
       "      <td>Kareena Kapoor, Jaideep Ahlawat, Vijay Varma, ...</td>\n",
       "    </tr>\n",
       "    <tr>\n",
       "      <th>2</th>\n",
       "      <td>2</td>\n",
       "      <td>tt11663228</td>\n",
       "      <td>Jailer</td>\n",
       "      <td>2023</td>\n",
       "      <td>Action, Comedy, Crime</td>\n",
       "      <td>A retired jailer goes on a manhunt to find his...</td>\n",
       "      <td>Nelson Dilipkumar</td>\n",
       "      <td>Rajinikanth, Mohanlal, Shivarajkumar, Jackie S...</td>\n",
       "    </tr>\n",
       "    <tr>\n",
       "      <th>3</th>\n",
       "      <td>3</td>\n",
       "      <td>tt14993250</td>\n",
       "      <td>Rocky Aur Rani Kii Prem Kahaani</td>\n",
       "      <td>2023</td>\n",
       "      <td>Comedy, Drama, Family</td>\n",
       "      <td>Flamboyant Punjabi Rocky and intellectual Beng...</td>\n",
       "      <td>Karan Johar</td>\n",
       "      <td>Ranveer Singh, Alia Bhatt, Dharmendra, Shabana...</td>\n",
       "    </tr>\n",
       "    <tr>\n",
       "      <th>4</th>\n",
       "      <td>4</td>\n",
       "      <td>tt15732324</td>\n",
       "      <td>OMG 2</td>\n",
       "      <td>2023</td>\n",
       "      <td>Comedy, Drama</td>\n",
       "      <td>An unhappy civilian asks the court to mandate ...</td>\n",
       "      <td>Amit Rai</td>\n",
       "      <td>Pankaj Tripathi, Akshay Kumar, Yami Gautam, Pa...</td>\n",
       "    </tr>\n",
       "  </tbody>\n",
       "</table>\n",
       "</div>"
      ],
      "text/plain": [
       "   Unnamed: 0    movie_id                       movie_name  year  \\\n",
       "0           0  tt15354916                            Jawan  2023   \n",
       "1           1  tt15748830                       Jaane Jaan  2023   \n",
       "2           2  tt11663228                           Jailer  2023   \n",
       "3           3  tt14993250  Rocky Aur Rani Kii Prem Kahaani  2023   \n",
       "4           4  tt15732324                            OMG 2  2023   \n",
       "\n",
       "                   genre                                           overview  \\\n",
       "0       Action, Thriller  A high-octane action thriller which outlines t...   \n",
       "1  Crime, Drama, Mystery  A single mother and her daughter who commit a ...   \n",
       "2  Action, Comedy, Crime  A retired jailer goes on a manhunt to find his...   \n",
       "3  Comedy, Drama, Family  Flamboyant Punjabi Rocky and intellectual Beng...   \n",
       "4          Comedy, Drama  An unhappy civilian asks the court to mandate ...   \n",
       "\n",
       "            director                                               cast  \n",
       "0              Atlee  Shah Rukh Khan, Nayanthara, Vijay Sethupathi, ...  \n",
       "1        Sujoy Ghosh  Kareena Kapoor, Jaideep Ahlawat, Vijay Varma, ...  \n",
       "2  Nelson Dilipkumar  Rajinikanth, Mohanlal, Shivarajkumar, Jackie S...  \n",
       "3        Karan Johar  Ranveer Singh, Alia Bhatt, Dharmendra, Shabana...  \n",
       "4           Amit Rai  Pankaj Tripathi, Akshay Kumar, Yami Gautam, Pa...  "
      ]
     },
     "execution_count": 5,
     "metadata": {},
     "output_type": "execute_result"
    }
   ],
   "source": [
    "data.head()"
   ]
  },
  {
   "cell_type": "code",
   "execution_count": 6,
   "id": "e50906e4-9ed3-4046-8177-25a6a789ffdc",
   "metadata": {},
   "outputs": [],
   "source": [
    "data.drop('year', axis = 1,inplace=True)"
   ]
  },
  {
   "cell_type": "code",
   "execution_count": 7,
   "id": "d770cfb9-afef-4d0d-a274-27d209824f8d",
   "metadata": {},
   "outputs": [
    {
     "data": {
      "text/plain": [
       "(2199, 7)"
      ]
     },
     "execution_count": 7,
     "metadata": {},
     "output_type": "execute_result"
    }
   ],
   "source": [
    "data.shape"
   ]
  },
  {
   "cell_type": "code",
   "execution_count": 8,
   "id": "3c2ab73e-65ac-49da-9374-3a269ddadc84",
   "metadata": {
    "scrolled": true
   },
   "outputs": [
    {
     "data": {
      "text/plain": [
       "Unnamed: 0    0\n",
       "movie_id      0\n",
       "movie_name    0\n",
       "genre         0\n",
       "overview      0\n",
       "director      0\n",
       "cast          0\n",
       "dtype: int64"
      ]
     },
     "execution_count": 8,
     "metadata": {},
     "output_type": "execute_result"
    }
   ],
   "source": [
    "data.isnull().sum()"
   ]
  },
  {
   "cell_type": "code",
   "execution_count": 9,
   "id": "54d9bda0-dc47-4278-9687-7c7270d66be4",
   "metadata": {},
   "outputs": [],
   "source": [
    "data.drop('Unnamed: 0', axis = 1,inplace=True)"
   ]
  },
  {
   "cell_type": "code",
   "execution_count": 10,
   "id": "a24e83d8-4929-4b20-9340-6a161a987ee1",
   "metadata": {},
   "outputs": [
    {
     "name": "stdout",
     "output_type": "stream",
     "text": [
      "<class 'pandas.core.frame.DataFrame'>\n",
      "RangeIndex: 2199 entries, 0 to 2198\n",
      "Data columns (total 6 columns):\n",
      " #   Column      Non-Null Count  Dtype \n",
      "---  ------      --------------  ----- \n",
      " 0   movie_id    2199 non-null   object\n",
      " 1   movie_name  2199 non-null   object\n",
      " 2   genre       2199 non-null   object\n",
      " 3   overview    2199 non-null   object\n",
      " 4   director    2199 non-null   object\n",
      " 5   cast        2199 non-null   object\n",
      "dtypes: object(6)\n",
      "memory usage: 103.2+ KB\n"
     ]
    }
   ],
   "source": [
    "data.info()"
   ]
  },
  {
   "cell_type": "code",
   "execution_count": 11,
   "id": "1ea2400a-abc0-46d6-a77f-bf13976d827f",
   "metadata": {},
   "outputs": [
    {
     "data": {
      "text/html": [
       "<div>\n",
       "<style scoped>\n",
       "    .dataframe tbody tr th:only-of-type {\n",
       "        vertical-align: middle;\n",
       "    }\n",
       "\n",
       "    .dataframe tbody tr th {\n",
       "        vertical-align: top;\n",
       "    }\n",
       "\n",
       "    .dataframe thead th {\n",
       "        text-align: right;\n",
       "    }\n",
       "</style>\n",
       "<table border=\"1\" class=\"dataframe\">\n",
       "  <thead>\n",
       "    <tr style=\"text-align: right;\">\n",
       "      <th></th>\n",
       "      <th>movie_id</th>\n",
       "      <th>movie_name</th>\n",
       "      <th>genre</th>\n",
       "      <th>overview</th>\n",
       "      <th>director</th>\n",
       "      <th>cast</th>\n",
       "    </tr>\n",
       "  </thead>\n",
       "  <tbody>\n",
       "    <tr>\n",
       "      <th>0</th>\n",
       "      <td>tt15354916</td>\n",
       "      <td>Jawan</td>\n",
       "      <td>Action, Thriller</td>\n",
       "      <td>A high-octane action thriller which outlines t...</td>\n",
       "      <td>Atlee</td>\n",
       "      <td>Shah Rukh Khan, Nayanthara, Vijay Sethupathi, ...</td>\n",
       "    </tr>\n",
       "    <tr>\n",
       "      <th>1</th>\n",
       "      <td>tt15748830</td>\n",
       "      <td>Jaane Jaan</td>\n",
       "      <td>Crime, Drama, Mystery</td>\n",
       "      <td>A single mother and her daughter who commit a ...</td>\n",
       "      <td>Sujoy Ghosh</td>\n",
       "      <td>Kareena Kapoor, Jaideep Ahlawat, Vijay Varma, ...</td>\n",
       "    </tr>\n",
       "    <tr>\n",
       "      <th>2</th>\n",
       "      <td>tt11663228</td>\n",
       "      <td>Jailer</td>\n",
       "      <td>Action, Comedy, Crime</td>\n",
       "      <td>A retired jailer goes on a manhunt to find his...</td>\n",
       "      <td>Nelson Dilipkumar</td>\n",
       "      <td>Rajinikanth, Mohanlal, Shivarajkumar, Jackie S...</td>\n",
       "    </tr>\n",
       "    <tr>\n",
       "      <th>3</th>\n",
       "      <td>tt14993250</td>\n",
       "      <td>Rocky Aur Rani Kii Prem Kahaani</td>\n",
       "      <td>Comedy, Drama, Family</td>\n",
       "      <td>Flamboyant Punjabi Rocky and intellectual Beng...</td>\n",
       "      <td>Karan Johar</td>\n",
       "      <td>Ranveer Singh, Alia Bhatt, Dharmendra, Shabana...</td>\n",
       "    </tr>\n",
       "    <tr>\n",
       "      <th>4</th>\n",
       "      <td>tt15732324</td>\n",
       "      <td>OMG 2</td>\n",
       "      <td>Comedy, Drama</td>\n",
       "      <td>An unhappy civilian asks the court to mandate ...</td>\n",
       "      <td>Amit Rai</td>\n",
       "      <td>Pankaj Tripathi, Akshay Kumar, Yami Gautam, Pa...</td>\n",
       "    </tr>\n",
       "  </tbody>\n",
       "</table>\n",
       "</div>"
      ],
      "text/plain": [
       "     movie_id                       movie_name                  genre  \\\n",
       "0  tt15354916                            Jawan       Action, Thriller   \n",
       "1  tt15748830                       Jaane Jaan  Crime, Drama, Mystery   \n",
       "2  tt11663228                           Jailer  Action, Comedy, Crime   \n",
       "3  tt14993250  Rocky Aur Rani Kii Prem Kahaani  Comedy, Drama, Family   \n",
       "4  tt15732324                            OMG 2          Comedy, Drama   \n",
       "\n",
       "                                            overview           director  \\\n",
       "0  A high-octane action thriller which outlines t...              Atlee   \n",
       "1  A single mother and her daughter who commit a ...        Sujoy Ghosh   \n",
       "2  A retired jailer goes on a manhunt to find his...  Nelson Dilipkumar   \n",
       "3  Flamboyant Punjabi Rocky and intellectual Beng...        Karan Johar   \n",
       "4  An unhappy civilian asks the court to mandate ...           Amit Rai   \n",
       "\n",
       "                                                cast  \n",
       "0  Shah Rukh Khan, Nayanthara, Vijay Sethupathi, ...  \n",
       "1  Kareena Kapoor, Jaideep Ahlawat, Vijay Varma, ...  \n",
       "2  Rajinikanth, Mohanlal, Shivarajkumar, Jackie S...  \n",
       "3  Ranveer Singh, Alia Bhatt, Dharmendra, Shabana...  \n",
       "4  Pankaj Tripathi, Akshay Kumar, Yami Gautam, Pa...  "
      ]
     },
     "execution_count": 11,
     "metadata": {},
     "output_type": "execute_result"
    }
   ],
   "source": [
    "data.head()"
   ]
  },
  {
   "cell_type": "code",
   "execution_count": 12,
   "id": "b4754eaa-6f9f-43f9-8066-8c15869665fd",
   "metadata": {},
   "outputs": [],
   "source": [
    "data['genre'] = data['genre'].apply(lambda x:x.split(','))\n",
    "data['overview'] = data['overview'].apply(lambda x:x.split())\n",
    "data['director'] = data['director'].apply(lambda x:x.split(','))\n",
    "data['cast'] = data['cast'].apply(lambda x:x.split(','))"
   ]
  },
  {
   "cell_type": "code",
   "execution_count": 13,
   "id": "e7ebeb5d-8f56-4fb6-9981-6998b91c4961",
   "metadata": {},
   "outputs": [
    {
     "data": {
      "text/html": [
       "<div>\n",
       "<style scoped>\n",
       "    .dataframe tbody tr th:only-of-type {\n",
       "        vertical-align: middle;\n",
       "    }\n",
       "\n",
       "    .dataframe tbody tr th {\n",
       "        vertical-align: top;\n",
       "    }\n",
       "\n",
       "    .dataframe thead th {\n",
       "        text-align: right;\n",
       "    }\n",
       "</style>\n",
       "<table border=\"1\" class=\"dataframe\">\n",
       "  <thead>\n",
       "    <tr style=\"text-align: right;\">\n",
       "      <th></th>\n",
       "      <th>movie_id</th>\n",
       "      <th>movie_name</th>\n",
       "      <th>genre</th>\n",
       "      <th>overview</th>\n",
       "      <th>director</th>\n",
       "      <th>cast</th>\n",
       "    </tr>\n",
       "  </thead>\n",
       "  <tbody>\n",
       "    <tr>\n",
       "      <th>0</th>\n",
       "      <td>tt15354916</td>\n",
       "      <td>Jawan</td>\n",
       "      <td>[Action,  Thriller]</td>\n",
       "      <td>[A, high-octane, action, thriller, which, outl...</td>\n",
       "      <td>[Atlee]</td>\n",
       "      <td>[Shah Rukh Khan,  Nayanthara,  Vijay Sethupath...</td>\n",
       "    </tr>\n",
       "    <tr>\n",
       "      <th>1</th>\n",
       "      <td>tt15748830</td>\n",
       "      <td>Jaane Jaan</td>\n",
       "      <td>[Crime,  Drama,  Mystery]</td>\n",
       "      <td>[A, single, mother, and, her, daughter, who, c...</td>\n",
       "      <td>[Sujoy Ghosh]</td>\n",
       "      <td>[Kareena Kapoor,  Jaideep Ahlawat,  Vijay Varm...</td>\n",
       "    </tr>\n",
       "    <tr>\n",
       "      <th>2</th>\n",
       "      <td>tt11663228</td>\n",
       "      <td>Jailer</td>\n",
       "      <td>[Action,  Comedy,  Crime]</td>\n",
       "      <td>[A, retired, jailer, goes, on, a, manhunt, to,...</td>\n",
       "      <td>[Nelson Dilipkumar]</td>\n",
       "      <td>[Rajinikanth,  Mohanlal,  Shivarajkumar,  Jack...</td>\n",
       "    </tr>\n",
       "    <tr>\n",
       "      <th>3</th>\n",
       "      <td>tt14993250</td>\n",
       "      <td>Rocky Aur Rani Kii Prem Kahaani</td>\n",
       "      <td>[Comedy,  Drama,  Family]</td>\n",
       "      <td>[Flamboyant, Punjabi, Rocky, and, intellectual...</td>\n",
       "      <td>[Karan Johar]</td>\n",
       "      <td>[Ranveer Singh,  Alia Bhatt,  Dharmendra,  Sha...</td>\n",
       "    </tr>\n",
       "    <tr>\n",
       "      <th>4</th>\n",
       "      <td>tt15732324</td>\n",
       "      <td>OMG 2</td>\n",
       "      <td>[Comedy,  Drama]</td>\n",
       "      <td>[An, unhappy, civilian, asks, the, court, to, ...</td>\n",
       "      <td>[Amit Rai]</td>\n",
       "      <td>[Pankaj Tripathi,  Akshay Kumar,  Yami Gautam,...</td>\n",
       "    </tr>\n",
       "  </tbody>\n",
       "</table>\n",
       "</div>"
      ],
      "text/plain": [
       "     movie_id                       movie_name                      genre  \\\n",
       "0  tt15354916                            Jawan        [Action,  Thriller]   \n",
       "1  tt15748830                       Jaane Jaan  [Crime,  Drama,  Mystery]   \n",
       "2  tt11663228                           Jailer  [Action,  Comedy,  Crime]   \n",
       "3  tt14993250  Rocky Aur Rani Kii Prem Kahaani  [Comedy,  Drama,  Family]   \n",
       "4  tt15732324                            OMG 2           [Comedy,  Drama]   \n",
       "\n",
       "                                            overview             director  \\\n",
       "0  [A, high-octane, action, thriller, which, outl...              [Atlee]   \n",
       "1  [A, single, mother, and, her, daughter, who, c...        [Sujoy Ghosh]   \n",
       "2  [A, retired, jailer, goes, on, a, manhunt, to,...  [Nelson Dilipkumar]   \n",
       "3  [Flamboyant, Punjabi, Rocky, and, intellectual...        [Karan Johar]   \n",
       "4  [An, unhappy, civilian, asks, the, court, to, ...           [Amit Rai]   \n",
       "\n",
       "                                                cast  \n",
       "0  [Shah Rukh Khan,  Nayanthara,  Vijay Sethupath...  \n",
       "1  [Kareena Kapoor,  Jaideep Ahlawat,  Vijay Varm...  \n",
       "2  [Rajinikanth,  Mohanlal,  Shivarajkumar,  Jack...  \n",
       "3  [Ranveer Singh,  Alia Bhatt,  Dharmendra,  Sha...  \n",
       "4  [Pankaj Tripathi,  Akshay Kumar,  Yami Gautam,...  "
      ]
     },
     "execution_count": 13,
     "metadata": {},
     "output_type": "execute_result"
    }
   ],
   "source": [
    "data.head()"
   ]
  },
  {
   "cell_type": "code",
   "execution_count": 14,
   "id": "4cd22e4f-dd22-4834-90ae-d123111889cf",
   "metadata": {},
   "outputs": [],
   "source": [
    "data['genre']    = data['genre'].apply(lambda x:[i.replace(\" \", \"\") for i in x])\n",
    "data['overview'] = data['overview'].apply(lambda x:[i.replace(\" \", \"\") for i in x])\n",
    "data['director'] = data['director'].apply(lambda x:[i.replace(\" \", \"\") for i in x])\n",
    "data['cast']     = data['cast'].apply(lambda x:[i.replace(\" \", \"\") for i in x])"
   ]
  },
  {
   "cell_type": "code",
   "execution_count": 15,
   "id": "b0b2f2c0-d407-4532-988e-1034ec72ef91",
   "metadata": {},
   "outputs": [
    {
     "data": {
      "text/html": [
       "<div>\n",
       "<style scoped>\n",
       "    .dataframe tbody tr th:only-of-type {\n",
       "        vertical-align: middle;\n",
       "    }\n",
       "\n",
       "    .dataframe tbody tr th {\n",
       "        vertical-align: top;\n",
       "    }\n",
       "\n",
       "    .dataframe thead th {\n",
       "        text-align: right;\n",
       "    }\n",
       "</style>\n",
       "<table border=\"1\" class=\"dataframe\">\n",
       "  <thead>\n",
       "    <tr style=\"text-align: right;\">\n",
       "      <th></th>\n",
       "      <th>movie_id</th>\n",
       "      <th>movie_name</th>\n",
       "      <th>genre</th>\n",
       "      <th>overview</th>\n",
       "      <th>director</th>\n",
       "      <th>cast</th>\n",
       "    </tr>\n",
       "  </thead>\n",
       "  <tbody>\n",
       "    <tr>\n",
       "      <th>0</th>\n",
       "      <td>tt15354916</td>\n",
       "      <td>Jawan</td>\n",
       "      <td>[Action, Thriller]</td>\n",
       "      <td>[A, high-octane, action, thriller, which, outl...</td>\n",
       "      <td>[Atlee]</td>\n",
       "      <td>[ShahRukhKhan, Nayanthara, VijaySethupathi, De...</td>\n",
       "    </tr>\n",
       "    <tr>\n",
       "      <th>1</th>\n",
       "      <td>tt15748830</td>\n",
       "      <td>Jaane Jaan</td>\n",
       "      <td>[Crime, Drama, Mystery]</td>\n",
       "      <td>[A, single, mother, and, her, daughter, who, c...</td>\n",
       "      <td>[SujoyGhosh]</td>\n",
       "      <td>[KareenaKapoor, JaideepAhlawat, VijayVarma, Sa...</td>\n",
       "    </tr>\n",
       "    <tr>\n",
       "      <th>2</th>\n",
       "      <td>tt11663228</td>\n",
       "      <td>Jailer</td>\n",
       "      <td>[Action, Comedy, Crime]</td>\n",
       "      <td>[A, retired, jailer, goes, on, a, manhunt, to,...</td>\n",
       "      <td>[NelsonDilipkumar]</td>\n",
       "      <td>[Rajinikanth, Mohanlal, Shivarajkumar, JackieS...</td>\n",
       "    </tr>\n",
       "    <tr>\n",
       "      <th>3</th>\n",
       "      <td>tt14993250</td>\n",
       "      <td>Rocky Aur Rani Kii Prem Kahaani</td>\n",
       "      <td>[Comedy, Drama, Family]</td>\n",
       "      <td>[Flamboyant, Punjabi, Rocky, and, intellectual...</td>\n",
       "      <td>[KaranJohar]</td>\n",
       "      <td>[RanveerSingh, AliaBhatt, Dharmendra, ShabanaA...</td>\n",
       "    </tr>\n",
       "    <tr>\n",
       "      <th>4</th>\n",
       "      <td>tt15732324</td>\n",
       "      <td>OMG 2</td>\n",
       "      <td>[Comedy, Drama]</td>\n",
       "      <td>[An, unhappy, civilian, asks, the, court, to, ...</td>\n",
       "      <td>[AmitRai]</td>\n",
       "      <td>[PankajTripathi, AkshayKumar, YamiGautam, Pawa...</td>\n",
       "    </tr>\n",
       "  </tbody>\n",
       "</table>\n",
       "</div>"
      ],
      "text/plain": [
       "     movie_id                       movie_name                    genre  \\\n",
       "0  tt15354916                            Jawan       [Action, Thriller]   \n",
       "1  tt15748830                       Jaane Jaan  [Crime, Drama, Mystery]   \n",
       "2  tt11663228                           Jailer  [Action, Comedy, Crime]   \n",
       "3  tt14993250  Rocky Aur Rani Kii Prem Kahaani  [Comedy, Drama, Family]   \n",
       "4  tt15732324                            OMG 2          [Comedy, Drama]   \n",
       "\n",
       "                                            overview            director  \\\n",
       "0  [A, high-octane, action, thriller, which, outl...             [Atlee]   \n",
       "1  [A, single, mother, and, her, daughter, who, c...        [SujoyGhosh]   \n",
       "2  [A, retired, jailer, goes, on, a, manhunt, to,...  [NelsonDilipkumar]   \n",
       "3  [Flamboyant, Punjabi, Rocky, and, intellectual...        [KaranJohar]   \n",
       "4  [An, unhappy, civilian, asks, the, court, to, ...           [AmitRai]   \n",
       "\n",
       "                                                cast  \n",
       "0  [ShahRukhKhan, Nayanthara, VijaySethupathi, De...  \n",
       "1  [KareenaKapoor, JaideepAhlawat, VijayVarma, Sa...  \n",
       "2  [Rajinikanth, Mohanlal, Shivarajkumar, JackieS...  \n",
       "3  [RanveerSingh, AliaBhatt, Dharmendra, ShabanaA...  \n",
       "4  [PankajTripathi, AkshayKumar, YamiGautam, Pawa...  "
      ]
     },
     "execution_count": 15,
     "metadata": {},
     "output_type": "execute_result"
    }
   ],
   "source": [
    "data.head()"
   ]
  },
  {
   "cell_type": "code",
   "execution_count": 16,
   "id": "f990f521-54a9-428b-ba11-1dff41d54c0b",
   "metadata": {},
   "outputs": [],
   "source": [
    "data[\"tags\"] = data['genre'] + data['overview'] + data['director'] + data['cast']"
   ]
  },
  {
   "cell_type": "code",
   "execution_count": 17,
   "id": "3707996c-0fa6-48a4-aac5-419b4a887b81",
   "metadata": {},
   "outputs": [
    {
     "data": {
      "text/html": [
       "<div>\n",
       "<style scoped>\n",
       "    .dataframe tbody tr th:only-of-type {\n",
       "        vertical-align: middle;\n",
       "    }\n",
       "\n",
       "    .dataframe tbody tr th {\n",
       "        vertical-align: top;\n",
       "    }\n",
       "\n",
       "    .dataframe thead th {\n",
       "        text-align: right;\n",
       "    }\n",
       "</style>\n",
       "<table border=\"1\" class=\"dataframe\">\n",
       "  <thead>\n",
       "    <tr style=\"text-align: right;\">\n",
       "      <th></th>\n",
       "      <th>movie_id</th>\n",
       "      <th>movie_name</th>\n",
       "      <th>genre</th>\n",
       "      <th>overview</th>\n",
       "      <th>director</th>\n",
       "      <th>cast</th>\n",
       "      <th>tags</th>\n",
       "    </tr>\n",
       "  </thead>\n",
       "  <tbody>\n",
       "    <tr>\n",
       "      <th>0</th>\n",
       "      <td>tt15354916</td>\n",
       "      <td>Jawan</td>\n",
       "      <td>[Action, Thriller]</td>\n",
       "      <td>[A, high-octane, action, thriller, which, outl...</td>\n",
       "      <td>[Atlee]</td>\n",
       "      <td>[ShahRukhKhan, Nayanthara, VijaySethupathi, De...</td>\n",
       "      <td>[Action, Thriller, A, high-octane, action, thr...</td>\n",
       "    </tr>\n",
       "    <tr>\n",
       "      <th>1</th>\n",
       "      <td>tt15748830</td>\n",
       "      <td>Jaane Jaan</td>\n",
       "      <td>[Crime, Drama, Mystery]</td>\n",
       "      <td>[A, single, mother, and, her, daughter, who, c...</td>\n",
       "      <td>[SujoyGhosh]</td>\n",
       "      <td>[KareenaKapoor, JaideepAhlawat, VijayVarma, Sa...</td>\n",
       "      <td>[Crime, Drama, Mystery, A, single, mother, and...</td>\n",
       "    </tr>\n",
       "    <tr>\n",
       "      <th>2</th>\n",
       "      <td>tt11663228</td>\n",
       "      <td>Jailer</td>\n",
       "      <td>[Action, Comedy, Crime]</td>\n",
       "      <td>[A, retired, jailer, goes, on, a, manhunt, to,...</td>\n",
       "      <td>[NelsonDilipkumar]</td>\n",
       "      <td>[Rajinikanth, Mohanlal, Shivarajkumar, JackieS...</td>\n",
       "      <td>[Action, Comedy, Crime, A, retired, jailer, go...</td>\n",
       "    </tr>\n",
       "    <tr>\n",
       "      <th>3</th>\n",
       "      <td>tt14993250</td>\n",
       "      <td>Rocky Aur Rani Kii Prem Kahaani</td>\n",
       "      <td>[Comedy, Drama, Family]</td>\n",
       "      <td>[Flamboyant, Punjabi, Rocky, and, intellectual...</td>\n",
       "      <td>[KaranJohar]</td>\n",
       "      <td>[RanveerSingh, AliaBhatt, Dharmendra, ShabanaA...</td>\n",
       "      <td>[Comedy, Drama, Family, Flamboyant, Punjabi, R...</td>\n",
       "    </tr>\n",
       "    <tr>\n",
       "      <th>4</th>\n",
       "      <td>tt15732324</td>\n",
       "      <td>OMG 2</td>\n",
       "      <td>[Comedy, Drama]</td>\n",
       "      <td>[An, unhappy, civilian, asks, the, court, to, ...</td>\n",
       "      <td>[AmitRai]</td>\n",
       "      <td>[PankajTripathi, AkshayKumar, YamiGautam, Pawa...</td>\n",
       "      <td>[Comedy, Drama, An, unhappy, civilian, asks, t...</td>\n",
       "    </tr>\n",
       "  </tbody>\n",
       "</table>\n",
       "</div>"
      ],
      "text/plain": [
       "     movie_id                       movie_name                    genre  \\\n",
       "0  tt15354916                            Jawan       [Action, Thriller]   \n",
       "1  tt15748830                       Jaane Jaan  [Crime, Drama, Mystery]   \n",
       "2  tt11663228                           Jailer  [Action, Comedy, Crime]   \n",
       "3  tt14993250  Rocky Aur Rani Kii Prem Kahaani  [Comedy, Drama, Family]   \n",
       "4  tt15732324                            OMG 2          [Comedy, Drama]   \n",
       "\n",
       "                                            overview            director  \\\n",
       "0  [A, high-octane, action, thriller, which, outl...             [Atlee]   \n",
       "1  [A, single, mother, and, her, daughter, who, c...        [SujoyGhosh]   \n",
       "2  [A, retired, jailer, goes, on, a, manhunt, to,...  [NelsonDilipkumar]   \n",
       "3  [Flamboyant, Punjabi, Rocky, and, intellectual...        [KaranJohar]   \n",
       "4  [An, unhappy, civilian, asks, the, court, to, ...           [AmitRai]   \n",
       "\n",
       "                                                cast  \\\n",
       "0  [ShahRukhKhan, Nayanthara, VijaySethupathi, De...   \n",
       "1  [KareenaKapoor, JaideepAhlawat, VijayVarma, Sa...   \n",
       "2  [Rajinikanth, Mohanlal, Shivarajkumar, JackieS...   \n",
       "3  [RanveerSingh, AliaBhatt, Dharmendra, ShabanaA...   \n",
       "4  [PankajTripathi, AkshayKumar, YamiGautam, Pawa...   \n",
       "\n",
       "                                                tags  \n",
       "0  [Action, Thriller, A, high-octane, action, thr...  \n",
       "1  [Crime, Drama, Mystery, A, single, mother, and...  \n",
       "2  [Action, Comedy, Crime, A, retired, jailer, go...  \n",
       "3  [Comedy, Drama, Family, Flamboyant, Punjabi, R...  \n",
       "4  [Comedy, Drama, An, unhappy, civilian, asks, t...  "
      ]
     },
     "execution_count": 17,
     "metadata": {},
     "output_type": "execute_result"
    }
   ],
   "source": [
    "data.head()"
   ]
  },
  {
   "cell_type": "code",
   "execution_count": 18,
   "id": "361c0c9c-8ea1-4bd7-b11d-37765d2e5a24",
   "metadata": {},
   "outputs": [],
   "source": [
    "movies = data[['movie_id', 'movie_name', 'tags']]"
   ]
  },
  {
   "cell_type": "code",
   "execution_count": 19,
   "id": "04487a0b-05b4-4369-a55d-cf3fdf33fe2c",
   "metadata": {},
   "outputs": [
    {
     "data": {
      "text/html": [
       "<div>\n",
       "<style scoped>\n",
       "    .dataframe tbody tr th:only-of-type {\n",
       "        vertical-align: middle;\n",
       "    }\n",
       "\n",
       "    .dataframe tbody tr th {\n",
       "        vertical-align: top;\n",
       "    }\n",
       "\n",
       "    .dataframe thead th {\n",
       "        text-align: right;\n",
       "    }\n",
       "</style>\n",
       "<table border=\"1\" class=\"dataframe\">\n",
       "  <thead>\n",
       "    <tr style=\"text-align: right;\">\n",
       "      <th></th>\n",
       "      <th>movie_id</th>\n",
       "      <th>movie_name</th>\n",
       "      <th>tags</th>\n",
       "    </tr>\n",
       "  </thead>\n",
       "  <tbody>\n",
       "    <tr>\n",
       "      <th>0</th>\n",
       "      <td>tt15354916</td>\n",
       "      <td>Jawan</td>\n",
       "      <td>[Action, Thriller, A, high-octane, action, thr...</td>\n",
       "    </tr>\n",
       "    <tr>\n",
       "      <th>1</th>\n",
       "      <td>tt15748830</td>\n",
       "      <td>Jaane Jaan</td>\n",
       "      <td>[Crime, Drama, Mystery, A, single, mother, and...</td>\n",
       "    </tr>\n",
       "    <tr>\n",
       "      <th>2</th>\n",
       "      <td>tt11663228</td>\n",
       "      <td>Jailer</td>\n",
       "      <td>[Action, Comedy, Crime, A, retired, jailer, go...</td>\n",
       "    </tr>\n",
       "    <tr>\n",
       "      <th>3</th>\n",
       "      <td>tt14993250</td>\n",
       "      <td>Rocky Aur Rani Kii Prem Kahaani</td>\n",
       "      <td>[Comedy, Drama, Family, Flamboyant, Punjabi, R...</td>\n",
       "    </tr>\n",
       "    <tr>\n",
       "      <th>4</th>\n",
       "      <td>tt15732324</td>\n",
       "      <td>OMG 2</td>\n",
       "      <td>[Comedy, Drama, An, unhappy, civilian, asks, t...</td>\n",
       "    </tr>\n",
       "  </tbody>\n",
       "</table>\n",
       "</div>"
      ],
      "text/plain": [
       "     movie_id                       movie_name  \\\n",
       "0  tt15354916                            Jawan   \n",
       "1  tt15748830                       Jaane Jaan   \n",
       "2  tt11663228                           Jailer   \n",
       "3  tt14993250  Rocky Aur Rani Kii Prem Kahaani   \n",
       "4  tt15732324                            OMG 2   \n",
       "\n",
       "                                                tags  \n",
       "0  [Action, Thriller, A, high-octane, action, thr...  \n",
       "1  [Crime, Drama, Mystery, A, single, mother, and...  \n",
       "2  [Action, Comedy, Crime, A, retired, jailer, go...  \n",
       "3  [Comedy, Drama, Family, Flamboyant, Punjabi, R...  \n",
       "4  [Comedy, Drama, An, unhappy, civilian, asks, t...  "
      ]
     },
     "execution_count": 19,
     "metadata": {},
     "output_type": "execute_result"
    }
   ],
   "source": [
    "movies.head()"
   ]
  },
  {
   "cell_type": "code",
   "execution_count": 20,
   "id": "9f32e255-daca-4b50-98d4-71affbe8608a",
   "metadata": {},
   "outputs": [
    {
     "name": "stderr",
     "output_type": "stream",
     "text": [
      "C:\\Users\\dell\\AppData\\Local\\Temp\\ipykernel_3600\\2975052693.py:1: SettingWithCopyWarning: \n",
      "A value is trying to be set on a copy of a slice from a DataFrame.\n",
      "Try using .loc[row_indexer,col_indexer] = value instead\n",
      "\n",
      "See the caveats in the documentation: https://pandas.pydata.org/pandas-docs/stable/user_guide/indexing.html#returning-a-view-versus-a-copy\n",
      "  movies['tags'] = movies['tags'].apply(lambda x:\" \".join(x))\n"
     ]
    }
   ],
   "source": [
    "movies['tags'] = movies['tags'].apply(lambda x:\" \".join(x))"
   ]
  },
  {
   "cell_type": "code",
   "execution_count": 21,
   "id": "c1192821-3265-4a77-9ffd-440f8e5877ff",
   "metadata": {},
   "outputs": [
    {
     "data": {
      "text/html": [
       "<div>\n",
       "<style scoped>\n",
       "    .dataframe tbody tr th:only-of-type {\n",
       "        vertical-align: middle;\n",
       "    }\n",
       "\n",
       "    .dataframe tbody tr th {\n",
       "        vertical-align: top;\n",
       "    }\n",
       "\n",
       "    .dataframe thead th {\n",
       "        text-align: right;\n",
       "    }\n",
       "</style>\n",
       "<table border=\"1\" class=\"dataframe\">\n",
       "  <thead>\n",
       "    <tr style=\"text-align: right;\">\n",
       "      <th></th>\n",
       "      <th>movie_id</th>\n",
       "      <th>movie_name</th>\n",
       "      <th>tags</th>\n",
       "    </tr>\n",
       "  </thead>\n",
       "  <tbody>\n",
       "    <tr>\n",
       "      <th>0</th>\n",
       "      <td>tt15354916</td>\n",
       "      <td>Jawan</td>\n",
       "      <td>Action Thriller A high-octane action thriller ...</td>\n",
       "    </tr>\n",
       "    <tr>\n",
       "      <th>1</th>\n",
       "      <td>tt15748830</td>\n",
       "      <td>Jaane Jaan</td>\n",
       "      <td>Crime Drama Mystery A single mother and her da...</td>\n",
       "    </tr>\n",
       "    <tr>\n",
       "      <th>2</th>\n",
       "      <td>tt11663228</td>\n",
       "      <td>Jailer</td>\n",
       "      <td>Action Comedy Crime A retired jailer goes on a...</td>\n",
       "    </tr>\n",
       "    <tr>\n",
       "      <th>3</th>\n",
       "      <td>tt14993250</td>\n",
       "      <td>Rocky Aur Rani Kii Prem Kahaani</td>\n",
       "      <td>Comedy Drama Family Flamboyant Punjabi Rocky a...</td>\n",
       "    </tr>\n",
       "    <tr>\n",
       "      <th>4</th>\n",
       "      <td>tt15732324</td>\n",
       "      <td>OMG 2</td>\n",
       "      <td>Comedy Drama An unhappy civilian asks the cour...</td>\n",
       "    </tr>\n",
       "  </tbody>\n",
       "</table>\n",
       "</div>"
      ],
      "text/plain": [
       "     movie_id                       movie_name  \\\n",
       "0  tt15354916                            Jawan   \n",
       "1  tt15748830                       Jaane Jaan   \n",
       "2  tt11663228                           Jailer   \n",
       "3  tt14993250  Rocky Aur Rani Kii Prem Kahaani   \n",
       "4  tt15732324                            OMG 2   \n",
       "\n",
       "                                                tags  \n",
       "0  Action Thriller A high-octane action thriller ...  \n",
       "1  Crime Drama Mystery A single mother and her da...  \n",
       "2  Action Comedy Crime A retired jailer goes on a...  \n",
       "3  Comedy Drama Family Flamboyant Punjabi Rocky a...  \n",
       "4  Comedy Drama An unhappy civilian asks the cour...  "
      ]
     },
     "execution_count": 21,
     "metadata": {},
     "output_type": "execute_result"
    }
   ],
   "source": [
    "movies.head()"
   ]
  },
  {
   "cell_type": "code",
   "execution_count": 22,
   "id": "40bc8d3d-0341-4da7-8c25-b12e600d24b4",
   "metadata": {},
   "outputs": [
    {
     "data": {
      "text/plain": [
       "'Action Thriller A high-octane action thriller which outlines the emotional journey of a man who is set to rectify the wrongs in the society. Atlee ShahRukhKhan Nayanthara VijaySethupathi DeepikaPadukone'"
      ]
     },
     "execution_count": 22,
     "metadata": {},
     "output_type": "execute_result"
    }
   ],
   "source": [
    "movies['tags'][0]"
   ]
  },
  {
   "cell_type": "code",
   "execution_count": 23,
   "id": "74780459-edf9-4350-a9a9-34e60d00288f",
   "metadata": {},
   "outputs": [
    {
     "name": "stderr",
     "output_type": "stream",
     "text": [
      "C:\\Users\\dell\\AppData\\Local\\Temp\\ipykernel_3600\\1170348455.py:1: SettingWithCopyWarning: \n",
      "A value is trying to be set on a copy of a slice from a DataFrame.\n",
      "Try using .loc[row_indexer,col_indexer] = value instead\n",
      "\n",
      "See the caveats in the documentation: https://pandas.pydata.org/pandas-docs/stable/user_guide/indexing.html#returning-a-view-versus-a-copy\n",
      "  movies['tags'] = movies['tags'].apply(lambda x:x.lower())\n"
     ]
    }
   ],
   "source": [
    "movies['tags'] = movies['tags'].apply(lambda x:x.lower())"
   ]
  },
  {
   "cell_type": "code",
   "execution_count": 24,
   "id": "a50cbb15-b484-4c99-a62d-553016e8eae6",
   "metadata": {},
   "outputs": [
    {
     "data": {
      "text/plain": [
       "'action thriller a high-octane action thriller which outlines the emotional journey of a man who is set to rectify the wrongs in the society. atlee shahrukhkhan nayanthara vijaysethupathi deepikapadukone'"
      ]
     },
     "execution_count": 24,
     "metadata": {},
     "output_type": "execute_result"
    }
   ],
   "source": [
    "movies['tags'][0]"
   ]
  },
  {
   "cell_type": "markdown",
   "id": "b358f453-595a-4533-9700-327d9dd69c0a",
   "metadata": {},
   "source": [
    "## Text Vectorization"
   ]
  },
  {
   "cell_type": "code",
   "execution_count": 25,
   "id": "86c66883-1036-414a-841f-f352a0ca1f26",
   "metadata": {},
   "outputs": [],
   "source": [
    "from sklearn.feature_extraction.text import CountVectorizer\n",
    "cv = CountVectorizer(max_features=4000, stop_words='english')"
   ]
  },
  {
   "cell_type": "code",
   "execution_count": 26,
   "id": "e77ed9ec-ba86-4b30-af22-4f26c9df29e0",
   "metadata": {},
   "outputs": [],
   "source": [
    "vectors = cv.fit_transform(movies['tags']).toarray()"
   ]
  },
  {
   "cell_type": "code",
   "execution_count": 27,
   "id": "ef412051-3c28-485c-9cb0-0483f2c45f30",
   "metadata": {},
   "outputs": [
    {
     "data": {
      "text/plain": [
       "array(['000', '10', '11', ..., 'zone', 'zoya', 'zoyaakhtar'], dtype=object)"
      ]
     },
     "execution_count": 27,
     "metadata": {},
     "output_type": "execute_result"
    }
   ],
   "source": [
    "cv.get_feature_names_out()"
   ]
  },
  {
   "cell_type": "code",
   "execution_count": 28,
   "id": "3b6d1f31-8611-44c5-b114-ddc524c5b95f",
   "metadata": {},
   "outputs": [
    {
     "name": "stdout",
     "output_type": "stream",
     "text": [
      "Requirement already satisfied: nltk in c:\\python3.12\\lib\\site-packages (3.9.1)\n",
      "Requirement already satisfied: click in c:\\python3.12\\lib\\site-packages (from nltk) (8.1.7)\n",
      "Requirement already satisfied: joblib in c:\\python3.12\\lib\\site-packages (from nltk) (1.4.2)\n",
      "Requirement already satisfied: regex>=2021.8.3 in c:\\python3.12\\lib\\site-packages (from nltk) (2024.9.11)\n",
      "Requirement already satisfied: tqdm in c:\\python3.12\\lib\\site-packages (from nltk) (4.66.5)\n",
      "Requirement already satisfied: colorama in c:\\python3.12\\lib\\site-packages (from click->nltk) (0.4.6)\n"
     ]
    }
   ],
   "source": [
    "!pip install nltk"
   ]
  },
  {
   "cell_type": "code",
   "execution_count": 29,
   "id": "c9ada4f6-01df-476f-807c-b46561ccbb1d",
   "metadata": {},
   "outputs": [],
   "source": [
    "from nltk.stem.porter import PorterStemmer\n",
    "ps = PorterStemmer()"
   ]
  },
  {
   "cell_type": "code",
   "execution_count": 30,
   "id": "fe78b213-eaa7-40b8-b9ec-dda0277e9f23",
   "metadata": {},
   "outputs": [],
   "source": [
    "def stem_text(text):\n",
    "    ans = []\n",
    "    for i in text.split():\n",
    "        ans.append(ps.stem(i))\n",
    "    return \" \".join(ans)"
   ]
  },
  {
   "cell_type": "code",
   "execution_count": 31,
   "id": "391c9186-4e80-46e2-974d-5800539bb969",
   "metadata": {},
   "outputs": [
    {
     "name": "stderr",
     "output_type": "stream",
     "text": [
      "C:\\Users\\dell\\AppData\\Local\\Temp\\ipykernel_3600\\436756272.py:1: SettingWithCopyWarning: \n",
      "A value is trying to be set on a copy of a slice from a DataFrame.\n",
      "Try using .loc[row_indexer,col_indexer] = value instead\n",
      "\n",
      "See the caveats in the documentation: https://pandas.pydata.org/pandas-docs/stable/user_guide/indexing.html#returning-a-view-versus-a-copy\n",
      "  movies['tags'] = movies['tags'].apply(stem_text)\n"
     ]
    }
   ],
   "source": [
    "movies['tags'] = movies['tags'].apply(stem_text)"
   ]
  },
  {
   "cell_type": "code",
   "execution_count": 32,
   "id": "f209e19f-3a46-4e5f-8254-4596c2a8c4a0",
   "metadata": {},
   "outputs": [
    {
     "data": {
      "text/plain": [
       "'comedi drama two friend are search for their long lost companion. they revisit their colleg day and recal the memori of their friend who inspir them to think differently, even as the rest of the world call them \"idiots\". rajkumarhirani aamirkhan madhavan monasingh sharmanjoshi'"
      ]
     },
     "execution_count": 32,
     "metadata": {},
     "output_type": "execute_result"
    }
   ],
   "source": [
    "movies['tags'][10]"
   ]
  },
  {
   "cell_type": "code",
   "execution_count": 33,
   "id": "aa2a4749-40af-446f-ab47-6130ab3214df",
   "metadata": {},
   "outputs": [],
   "source": [
    "from sklearn.metrics.pairwise import cosine_similarity\n",
    "similarity = cosine_similarity(vectors)"
   ]
  },
  {
   "cell_type": "code",
   "execution_count": 34,
   "id": "977b8936-3f8f-40a9-aec1-dbe924a2583a",
   "metadata": {},
   "outputs": [
    {
     "data": {
      "text/plain": [
       "(2199, 2199)"
      ]
     },
     "execution_count": 34,
     "metadata": {},
     "output_type": "execute_result"
    }
   ],
   "source": [
    "similarity.shape"
   ]
  },
  {
   "cell_type": "code",
   "execution_count": 35,
   "id": "9fe05054-4383-4a47-b668-038a3b1d7806",
   "metadata": {},
   "outputs": [
    {
     "data": {
      "text/plain": [
       "[(574, np.float64(0.41962716370814124)),\n",
       " (51, np.float64(0.4183300132670378)),\n",
       " (2161, np.float64(0.39999999999999997))]"
      ]
     },
     "execution_count": 35,
     "metadata": {},
     "output_type": "execute_result"
    }
   ],
   "source": [
    "sorted(list(enumerate(similarity[0])), reverse=True, key=lambda x:x[1])[1:4]"
   ]
  },
  {
   "cell_type": "code",
   "execution_count": 36,
   "id": "75ecaf14-133a-4029-acd8-18aa13e57783",
   "metadata": {},
   "outputs": [],
   "source": [
    "def recommend_movies(movie):\n",
    "    movie_index = movies[movies['movie_name'] == movie].index[0]\n",
    "    distances   = similarity[movie_index]\n",
    "    top_movies  = sorted(list(enumerate(distances)), reverse=True, key=lambda x:x[1])[1:4]\n",
    "    top3        = []\n",
    "    movie_id    = []\n",
    "    for i in top_movies:\n",
    "        top3.append(movies.iloc[i[0]].movie_name)\n",
    "        movie_id.append(movies.iloc[i[0]].movie_id)\n",
    "    return top3, movie_id"
   ]
  },
  {
   "cell_type": "code",
   "execution_count": 37,
   "id": "fd3771f4-4bea-45e9-8687-be771bc1f4c9",
   "metadata": {},
   "outputs": [
    {
     "name": "stdout",
     "output_type": "stream",
     "text": [
      "['Zara Hatke Zara Bachke', 'Guddi', 'Karm'] ['tt15576460', 'tt0067164', 'tt0158698']\n"
     ]
    }
   ],
   "source": [
    "top_movies, top_movies_id  = recommend_movies(\"Rocky Aur Rani Kii Prem Kahaani\")\n",
    "print(top_movies,top_movies_id)"
   ]
  },
  {
   "cell_type": "code",
   "execution_count": 38,
   "id": "4f99fb4d-e40a-4935-afee-7ea6b1dcc6b2",
   "metadata": {},
   "outputs": [],
   "source": [
    "import pickle"
   ]
  },
  {
   "cell_type": "code",
   "execution_count": 39,
   "id": "bf6a2842-bc1b-4477-ac5a-cf8c9cb27cb9",
   "metadata": {},
   "outputs": [],
   "source": [
    "pickle.dump(movies, open('movies_data.pkl', 'wb'))"
   ]
  },
  {
   "cell_type": "code",
   "execution_count": 50,
   "id": "a22f0884-cf8d-4675-b6c3-c63dcb0128ea",
   "metadata": {},
   "outputs": [
    {
     "data": {
      "text/plain": [
       "array(['Jawan', 'Jaane Jaan', 'Jailer', ..., 'Time to Dance',\n",
       "       'Nigahen: Nagina Part II', 'Kyo Kii... Main Jhuth Nahin Bolta'],\n",
       "      dtype=object)"
      ]
     },
     "execution_count": 50,
     "metadata": {},
     "output_type": "execute_result"
    }
   ],
   "source": [
    "movies['movie_name'].values"
   ]
  },
  {
   "cell_type": "code",
   "execution_count": 52,
   "id": "e9dded8f-13ed-4cb8-a146-d36562a60ac0",
   "metadata": {},
   "outputs": [],
   "source": [
    "pickle.dump(similarity, open(\"similarity.pkl\", \"wb\"))"
   ]
  },
  {
   "cell_type": "code",
   "execution_count": 1,
   "id": "afd60fb3-b580-42e8-992d-1371a8ea8d19",
   "metadata": {},
   "outputs": [],
   "source": [
    "import requests\n",
    "from bs4 import BeautifulSoup"
   ]
  },
  {
   "cell_type": "code",
   "execution_count": 6,
   "id": "e2706e82-239d-4e82-9bdb-7bd28c1d0a2c",
   "metadata": {},
   "outputs": [],
   "source": [
    "response = requests.get('https://www.google.com/search?q=sanak+movie+trailer+link')\n",
    "soup   = BeautifulSoup(response.text, 'html.parser')"
   ]
  },
  {
   "cell_type": "code",
   "execution_count": 12,
   "id": "d79f0b6a-4a4c-4e6e-9ead-592ba78b4a94",
   "metadata": {},
   "outputs": [
    {
     "data": {
      "text/plain": [
       "[<div style=\"max-width:400px;\">\n",
       " <hr noshade=\"\" size=\"1\" style=\"color:#ccc; background-color:#ccc;\"/><br/>\n",
       " <form action=\"index\" id=\"captcha-form\" method=\"post\">\n",
       " <noscript>\n",
       " <div style=\"font-size:13px;\">\n",
       "   In order to continue, please enable javascript on your web browser.\n",
       " </div>\n",
       " </noscript>\n",
       " <script async=\"\" defer=\"\" src=\"https://www.google.com/recaptcha/api.js\"></script>\n",
       " <script>var submitCallback = function(response) {document.getElementById('captcha-form').submit();};</script>\n",
       " <div class=\"g-recaptcha\" data-callback=\"submitCallback\" data-s=\"basyocNNrVNJsujfY-5pjeySR4lJQhDQxg_dsoqXttpUgTRJ279EjbSUm2mQA157X9HWcuLdeqVYN8AqymKIoRt71VpVenlDxQyG3TgaZZr29I2owTC47zVX4fUJHK-cTefL4ThLHTiLqFsby4gjwuKEh4jLo7KwDHI_s_eLDgMUy3J_-1inBNlTA0VpMCV8ADZQqL7U6FS5SuM-JvyWjwpHPjvNKfdguXTUan-zrTnzIb1kAhgHagH3gCys881zJ6aUYNRPE-JuqXCvCMkaCZa-GA-pNBw\" data-sitekey=\"6LfwuyUTAAAAAOAmoS0fdqijC2PbbdH4kjq62Y1b\" id=\"recaptcha\"></div>\n",
       " <input name=\"q\" type=\"hidden\" value=\"EgR9EL3lGJ6_3LcGIjAxATEVudE-HaEYGmm-6Gjcl54rZ4II7EBhvwQoW6OVW3vPbfaGFP-EFCLKH9-8q9AyAXJaAUM\"/><input name=\"continue\" type=\"hidden\" value=\"https://www.google.com/search?q=sanak+movie+trailer+link\"/>\n",
       " </form>\n",
       " <hr noshade=\"\" size=\"1\" style=\"color:#ccc; background-color:#ccc;\"/>\n",
       " <div style=\"font-size:13px;\">\n",
       " <b>About this page</b><br/><br/>\n",
       " \n",
       " Our systems have detected unusual traffic from your computer network.  This page checks to see if it's really you sending the requests, and not a robot.  <a href=\"#\" onclick=\"document.getElementById('infoDiv').style.display='block';\">Why did this happen?</a><br/><br/>\n",
       " <div id=\"infoDiv\" style=\"display:none; background-color:#eee; padding:10px; margin:0 0 15px 0; line-height:1.4em;\">\n",
       " This page appears when Google automatically detects requests coming from your computer network which appear to be in violation of the <a href=\"//www.google.com/policies/terms/\">Terms of Service</a>. The block will expire shortly after those requests stop.  In the meantime, solving the above CAPTCHA will let you continue to use our services.<br/><br/>This traffic may have been sent by malicious software, a browser plug-in, or a script that sends automated requests.  If you share your network connection, ask your administrator for help — a different computer using the same IP address may be responsible.  <a href=\"//support.google.com/websearch/answer/86640\">Learn more</a><br/><br/>Sometimes you may be asked to solve the CAPTCHA if you are using advanced terms that robots are known to use, or sending requests very quickly.\n",
       " </div>\n",
       " \n",
       " IP address: 125.16.189.229<br/>Time: 2024-09-27T21:11:59Z<br/>URL: https://www.google.com/search?q=sanak+movie+trailer+link<br/>\n",
       " </div>\n",
       " </div>,\n",
       " <div style=\"font-size:13px;\">\n",
       "   In order to continue, please enable javascript on your web browser.\n",
       " </div>,\n",
       " <div class=\"g-recaptcha\" data-callback=\"submitCallback\" data-s=\"basyocNNrVNJsujfY-5pjeySR4lJQhDQxg_dsoqXttpUgTRJ279EjbSUm2mQA157X9HWcuLdeqVYN8AqymKIoRt71VpVenlDxQyG3TgaZZr29I2owTC47zVX4fUJHK-cTefL4ThLHTiLqFsby4gjwuKEh4jLo7KwDHI_s_eLDgMUy3J_-1inBNlTA0VpMCV8ADZQqL7U6FS5SuM-JvyWjwpHPjvNKfdguXTUan-zrTnzIb1kAhgHagH3gCys881zJ6aUYNRPE-JuqXCvCMkaCZa-GA-pNBw\" data-sitekey=\"6LfwuyUTAAAAAOAmoS0fdqijC2PbbdH4kjq62Y1b\" id=\"recaptcha\"></div>,\n",
       " <div style=\"font-size:13px;\">\n",
       " <b>About this page</b><br/><br/>\n",
       " \n",
       " Our systems have detected unusual traffic from your computer network.  This page checks to see if it's really you sending the requests, and not a robot.  <a href=\"#\" onclick=\"document.getElementById('infoDiv').style.display='block';\">Why did this happen?</a><br/><br/>\n",
       " <div id=\"infoDiv\" style=\"display:none; background-color:#eee; padding:10px; margin:0 0 15px 0; line-height:1.4em;\">\n",
       " This page appears when Google automatically detects requests coming from your computer network which appear to be in violation of the <a href=\"//www.google.com/policies/terms/\">Terms of Service</a>. The block will expire shortly after those requests stop.  In the meantime, solving the above CAPTCHA will let you continue to use our services.<br/><br/>This traffic may have been sent by malicious software, a browser plug-in, or a script that sends automated requests.  If you share your network connection, ask your administrator for help — a different computer using the same IP address may be responsible.  <a href=\"//support.google.com/websearch/answer/86640\">Learn more</a><br/><br/>Sometimes you may be asked to solve the CAPTCHA if you are using advanced terms that robots are known to use, or sending requests very quickly.\n",
       " </div>\n",
       " \n",
       " IP address: 125.16.189.229<br/>Time: 2024-09-27T21:11:59Z<br/>URL: https://www.google.com/search?q=sanak+movie+trailer+link<br/>\n",
       " </div>,\n",
       " <div id=\"infoDiv\" style=\"display:none; background-color:#eee; padding:10px; margin:0 0 15px 0; line-height:1.4em;\">\n",
       " This page appears when Google automatically detects requests coming from your computer network which appear to be in violation of the <a href=\"//www.google.com/policies/terms/\">Terms of Service</a>. The block will expire shortly after those requests stop.  In the meantime, solving the above CAPTCHA will let you continue to use our services.<br/><br/>This traffic may have been sent by malicious software, a browser plug-in, or a script that sends automated requests.  If you share your network connection, ask your administrator for help — a different computer using the same IP address may be responsible.  <a href=\"//support.google.com/websearch/answer/86640\">Learn more</a><br/><br/>Sometimes you may be asked to solve the CAPTCHA if you are using advanced terms that robots are known to use, or sending requests very quickly.\n",
       " </div>]"
      ]
     },
     "execution_count": 12,
     "metadata": {},
     "output_type": "execute_result"
    }
   ],
   "source": [
    "soup.find_all('div')"
   ]
  },
  {
   "cell_type": "code",
   "execution_count": null,
   "id": "5ccb06ea-ea4d-48f6-a8ae-3c01c3e03a4e",
   "metadata": {},
   "outputs": [],
   "source": []
  },
  {
   "cell_type": "code",
   "execution_count": null,
   "id": "b28584ec-331f-48ac-b81c-bd26bfeba8a1",
   "metadata": {},
   "outputs": [],
   "source": []
  }
 ],
 "metadata": {
  "kernelspec": {
   "display_name": "Python 3 (ipykernel)",
   "language": "python",
   "name": "python3"
  },
  "language_info": {
   "codemirror_mode": {
    "name": "ipython",
    "version": 3
   },
   "file_extension": ".py",
   "mimetype": "text/x-python",
   "name": "python",
   "nbconvert_exporter": "python",
   "pygments_lexer": "ipython3",
   "version": "3.12.5"
  }
 },
 "nbformat": 4,
 "nbformat_minor": 5
}
